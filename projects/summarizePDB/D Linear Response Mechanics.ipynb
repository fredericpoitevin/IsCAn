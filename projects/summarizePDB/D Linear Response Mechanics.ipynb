{
 "cells": [
  {
   "cell_type": "code",
   "execution_count": null,
   "metadata": {},
   "outputs": [],
   "source": [
    "%matplotlib inline\n",
    "import numpy as np\n",
    "import src.io as io\n",
    "import src.components as cmpnt\n",
    "import src.rigidbodies as rb\n",
    "import src.mechanics as meknx"
   ]
  },
  {
   "cell_type": "code",
   "execution_count": null,
   "metadata": {},
   "outputs": [],
   "source": [
    "project_name='rnapol2_wei_mldecoys'\n",
    "pdb_subdir  ='iter0_ica'\n",
    "pdb_source =project_name+'/'+pdb_subdir+'/iter1_ica__oscillatory_IC1.pdb'\n",
    "pdb_target =project_name+'/'+pdb_subdir+'/iter1_ica_cluster_1_mean.pdb'\n",
    "pdb_lrt    =project_name+'/'+pdb_subdir+'/iter1_ica_lrt_IC1_to_1.pdb'\n",
    "\n",
    "traj_source = io.load_traj(pdb_source)\n",
    "traj_target = io.load_traj(pdb_target)"
   ]
  },
  {
   "cell_type": "code",
   "execution_count": null,
   "metadata": {},
   "outputs": [],
   "source": [
    "meknx.get_linear_response_force(traj_source.slice(np.arange(0,2)),traj_target,filename=pdb_lrt)"
   ]
  },
  {
   "cell_type": "code",
   "execution_count": null,
   "metadata": {},
   "outputs": [],
   "source": [
    "project_name='rnapol2_wei_mldecoys'\n",
    "pdb_subdir  ='iter0_ica'\n",
    "list_component   = [\"__oscillatory_IC1\",\"__oscillatory_IC2\",\"__oscillatory_IC3\",\"__oscillatory_IC4\",\"__oscillatory_IC5\",\"__oscillatory_IC6\",\"__oscillatory_IC7\"]\n",
    "list_cluster = [\"_cluster_1_\",\"_cluster_3_\",\"_cluster_2_\",\"_cluster_6_\",\"_cluster_5_\",\"_cluster_4_\",\"_cluster_7_\"]\n",
    "for component, cluster in zip(list_component, list_cluster):\n",
    "    pdb_source =project_name+'/'+pdb_subdir+'/iter0_ica_99'+component+'.pdb'\n",
    "    pdb_target =project_name+'/'+pdb_subdir+'/iter0_ica_99'+cluster+'mean.pdb'\n",
    "    pdb_lrt    =project_name+'/'+pdb_subdir+'/iter0_ica_99_lrt'+component+'_to_'+cluster+'.pdb'\n",
    "    print(\">>> \",pdb_lrt)\n",
    "    traj_source = io.load_traj(pdb_source)\n",
    "    traj_target = io.load_traj(pdb_target)\n",
    "    meknx.get_linear_response_force(traj_source.slice(np.arange(0,2)),traj_target,filename=pdb_lrt)"
   ]
  },
  {
   "cell_type": "code",
   "execution_count": null,
   "metadata": {},
   "outputs": [],
   "source": []
  }
 ],
 "metadata": {
  "kernelspec": {
   "display_name": "Python 3",
   "language": "python",
   "name": "python3"
  },
  "language_info": {
   "codemirror_mode": {
    "name": "ipython",
    "version": 3
   },
   "file_extension": ".py",
   "mimetype": "text/x-python",
   "name": "python",
   "nbconvert_exporter": "python",
   "pygments_lexer": "ipython3",
   "version": "3.6.3"
  }
 },
 "nbformat": 4,
 "nbformat_minor": 2
}
