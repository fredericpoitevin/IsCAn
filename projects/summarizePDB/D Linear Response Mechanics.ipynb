{
 "cells": [
  {
   "cell_type": "code",
   "execution_count": 1,
   "metadata": {},
   "outputs": [
    {
     "name": "stderr",
     "output_type": "stream",
     "text": [
      "/Users/fpoitevi/anaconda3/lib/python3.6/site-packages/sklearn/cross_validation.py:41: DeprecationWarning: This module was deprecated in version 0.18 in favor of the model_selection module into which all the refactored classes and functions are moved. Also note that the interface of the new CV iterators are different from that of this module. This module will be removed in 0.20.\n",
      "  \"This module will be removed in 0.20.\", DeprecationWarning)\n",
      "/Users/fpoitevi/anaconda3/lib/python3.6/site-packages/sklearn/grid_search.py:42: DeprecationWarning: This module was deprecated in version 0.18 in favor of the model_selection module into which all the refactored classes and functions are moved. This module will be removed in 0.20.\n",
      "  DeprecationWarning)\n"
     ]
    }
   ],
   "source": [
    "%matplotlib inline\n",
    "import numpy as np\n",
    "import src.io as io\n",
    "import src.components as cmpnt\n",
    "import src.rigidbodies as rb\n",
    "import src.mechanics as meknx"
   ]
  },
  {
   "cell_type": "code",
   "execution_count": 2,
   "metadata": {},
   "outputs": [],
   "source": [
    "project_name='ribosome_thermo_rna'\n",
    "pdb_subdir  ='iter2_ica'\n",
    "pdb_source =project_name+'/'+pdb_subdir+'/iter1_ica__oscillatory_IC1.pdb'\n",
    "pdb_target =project_name+'/'+pdb_subdir+'/iter1_ica_cluster_1_mean.pdb'\n",
    "pdb_lrt    =project_name+'/'+pdb_subdir+'/iter1_ica_lrt_IC1_to_1.pdb'\n",
    "\n",
    "traj_source = io.load_traj(pdb_source)\n",
    "traj_target = io.load_traj(pdb_target)"
   ]
  },
  {
   "cell_type": "code",
   "execution_count": 3,
   "metadata": {},
   "outputs": [],
   "source": [
    "meknx.get_linear_response_force(traj_source.slice(np.arange(0,2)),traj_target,filename=pdb_lrt)"
   ]
  },
  {
   "cell_type": "code",
   "execution_count": 10,
   "metadata": {},
   "outputs": [
    {
     "name": "stdout",
     "output_type": "stream",
     "text": [
      ">>>  rnapol2_scerevisae/iter2_ica/iter2_ica_lrt__oscillatory_IC1_to__cluster_6_.pdb\n",
      ">>>  rnapol2_scerevisae/iter2_ica/iter2_ica_lrt__oscillatory_IC2_to__cluster_1_.pdb\n",
      ">>>  rnapol2_scerevisae/iter2_ica/iter2_ica_lrt__oscillatory_IC3_to__cluster_2_.pdb\n",
      ">>>  rnapol2_scerevisae/iter2_ica/iter2_ica_lrt__oscillatory_IC4_to__cluster_3_.pdb\n",
      ">>>  rnapol2_scerevisae/iter2_ica/iter2_ica_lrt__oscillatory_IC5_to__cluster_4_.pdb\n",
      ">>>  rnapol2_scerevisae/iter2_ica/iter2_ica_lrt__oscillatory_IC5_to__cluster_5_.pdb\n"
     ]
    }
   ],
   "source": [
    "project_name='rnapol2_scerevisae'\n",
    "pdb_subdir  ='iter2_ica'\n",
    "list_component   = [\"__oscillatory_IC1\",\"__oscillatory_IC2\",\"__oscillatory_IC3\",\"__oscillatory_IC4\",\"__oscillatory_IC5\",\"__oscillatory_IC5\"]\n",
    "list_cluster = [\"_cluster_6_\",\"_cluster_1_\",\"_cluster_2_\",\"_cluster_3_\",\"_cluster_4_\",\"_cluster_5_\"]\n",
    "for component, cluster in zip(list_component, list_cluster):\n",
    "    pdb_source =project_name+'/'+pdb_subdir+'/iter2_ica'+component+'.pdb'\n",
    "    pdb_target =project_name+'/'+pdb_subdir+'/iter2_ica'+cluster+'mean.pdb'\n",
    "    pdb_lrt    =project_name+'/'+pdb_subdir+'/iter2_ica_lrt'+component+'_to_'+cluster+'.pdb'\n",
    "    print(\">>> \",pdb_lrt)\n",
    "    traj_source = io.load_traj(pdb_source)\n",
    "    traj_target = io.load_traj(pdb_target)\n",
    "    meknx.get_linear_response_force(traj_source.slice(np.arange(0,2)),traj_target,filename=pdb_lrt)"
   ]
  },
  {
   "cell_type": "code",
   "execution_count": null,
   "metadata": {},
   "outputs": [],
   "source": []
  }
 ],
 "metadata": {
  "kernelspec": {
   "display_name": "Python 3",
   "language": "python",
   "name": "python3"
  },
  "language_info": {
   "codemirror_mode": {
    "name": "ipython",
    "version": 3
   },
   "file_extension": ".py",
   "mimetype": "text/x-python",
   "name": "python",
   "nbconvert_exporter": "python",
   "pygments_lexer": "ipython3",
   "version": "3.6.3"
  }
 },
 "nbformat": 4,
 "nbformat_minor": 2
}
