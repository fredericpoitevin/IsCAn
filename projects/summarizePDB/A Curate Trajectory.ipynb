{
 "cells": [
  {
   "cell_type": "code",
   "execution_count": 1,
   "metadata": {},
   "outputs": [
    {
     "name": "stderr",
     "output_type": "stream",
     "text": [
      "/Users/fpoitevi/anaconda3/lib/python3.6/site-packages/sklearn/cross_validation.py:41: DeprecationWarning: This module was deprecated in version 0.18 in favor of the model_selection module into which all the refactored classes and functions are moved. Also note that the interface of the new CV iterators are different from that of this module. This module will be removed in 0.20.\n",
      "  \"This module will be removed in 0.20.\", DeprecationWarning)\n",
      "/Users/fpoitevi/anaconda3/lib/python3.6/site-packages/sklearn/grid_search.py:42: DeprecationWarning: This module was deprecated in version 0.18 in favor of the model_selection module into which all the refactored classes and functions are moved. This module will be removed in 0.20.\n",
      "  DeprecationWarning)\n"
     ]
    }
   ],
   "source": [
    "%matplotlib inline\n",
    "import os.path\n",
    "import numpy as np\n",
    "import src.io as io\n",
    "import src.components as cmpnt"
   ]
  },
  {
   "cell_type": "code",
   "execution_count": 6,
   "metadata": {},
   "outputs": [],
   "source": [
    "project_name = 'ribosome_thermo_ssu_rna' #'rnapol2_scerevisae' #'ribosome_thermo_rna'"
   ]
  },
  {
   "cell_type": "markdown",
   "metadata": {},
   "source": [
    "### Remove atoms that behave funny\n",
    "We remove atom outliers: if pdb_clean is **True**"
   ]
  },
  {
   "cell_type": "code",
   "execution_count": 7,
   "metadata": {},
   "outputs": [
    {
     "name": "stdout",
     "output_type": "stream",
     "text": [
      "Initial number of atoms  1330\n",
      "... after cleaning:  1319\n",
      "wrote  data/ribosome_thermo_ssu_rna_clean.pdb  :  ['1fjg+00.cif' '1hnw+00.cif' '1hnx+00.cif' '1hnz+00.cif' '1hr0+00.cif'\n",
      " '1ibk+00.cif' '1ibl+00.cif' '1ibm+00.cif' '1j5e+00.cif' '1n32+00.cif'\n",
      " '1n33+00.cif' '1n34+00.cif' '1n36+00.cif' '1vvj+01.cif' '1vvj+02.cif'\n",
      " '1vy4+01.cif' '1vy4+02.cif' '1vy5+01.cif' '1vy5+02.cif' '1vy6+01.cif'\n",
      " '1vy6+02.cif' '1vy7+01.cif' '1vy7+02.cif' '1xmo+00.cif' '1xmq+00.cif'\n",
      " '1xnq+00.cif' '1xnr+00.cif' '2e5l+00.cif' '2f4v+00.cif' '2hhh+00.cif'\n",
      " '2uu9+00.cif' '2uua+00.cif' '2uub+00.cif' '2uuc+00.cif' '2uxb+00.cif'\n",
      " '2uxc+00.cif' '2uxd+00.cif' '2vqe+00.cif' '2vqf+00.cif' '2zm6+00.cif'\n",
      " '3oto+00.cif' '3t1h+00.cif' '3t1y+00.cif' '4aqy+00.cif' '4b3m+00.cif'\n",
      " '4b3r+00.cif' '4b3s+00.cif' '4b3t+00.cif' '4dr1+00.cif' '4dr2+00.cif'\n",
      " '4dr3+00.cif' '4dr4+00.cif' '4dr5+00.cif' '4dr6+00.cif' '4dr7+00.cif'\n",
      " '4duy+00.cif' '4duz+00.cif' '4dv0+00.cif' '4dv1+00.cif' '4dv2+00.cif'\n",
      " '4dv3+00.cif' '4dv4+00.cif' '4dv5+00.cif' '4dv6+00.cif' '4dv7+00.cif'\n",
      " '4gkj+00.cif' '4gkk+00.cif' '4ji0+00.cif' '4ji1+00.cif' '4ji2+00.cif'\n",
      " '4ji3+00.cif' '4ji4+00.cif' '4ji5+00.cif' '4ji6+00.cif' '4ji7+00.cif'\n",
      " '4ji8+00.cif' '4jv5+00.cif' '4jya+00.cif' '4k0k+00.cif' '4khp+00.cif'\n",
      " '4kvb+00.cif' '4l47+01.cif' '4l47+02.cif' '4l71+01.cif' '4l71+02.cif'\n",
      " '4lel+01.cif' '4lel+02.cif' '4lf4+00.cif' '4lf5+00.cif' '4lf6+00.cif'\n",
      " '4lf7+00.cif' '4lf8+00.cif' '4lf9+00.cif' '4lfa+00.cif' '4lfb+00.cif'\n",
      " '4lfc+00.cif' '4lfz+01.cif' '4lfz+02.cif' '4lnt+01.cif' '4lnt+02.cif'\n",
      " '4lsk+01.cif' '4lsk+02.cif' '4lt8+01.cif' '4lt8+02.cif' '4nxm+00.cif'\n",
      " '4nxn+00.cif' '4ox9+00.cif' '4p6f+01.cif' '4p6f+02.cif' '4p70+01.cif'\n",
      " '4p70+02.cif' '4tua+01.cif' '4tua+02.cif' '4tub+01.cif' '4tub+02.cif'\n",
      " '4tuc+01.cif' '4tuc+02.cif' '4tud+01.cif' '4tud+02.cif' '4tue+01.cif'\n",
      " '4tue+02.cif' '4v4g+01.cif' '4v4g+02.cif' '4v4g+03.cif' '4v4g+04.cif'\n",
      " '4v4g+05.cif' '4v4i+00.cif' '4v4j+00.cif' '4v4p+00.cif' '4v4r+00.cif'\n",
      " '4v4s+00.cif' '4v4t+00.cif' '4v4x+00.cif' '4v4y+00.cif' '4v4z+00.cif'\n",
      " '4v51+01.cif' '4v51+02.cif' '4v5a+01.cif' '4v5a+02.cif' '4v5c+01.cif'\n",
      " '4v5c+02.cif' '4v5d+01.cif' '4v5d+02.cif' '4v5e+01.cif' '4v5e+02.cif'\n",
      " '4v5f+01.cif' '4v5f+02.cif' '4v5g+01.cif' '4v5g+02.cif' '4v5j+01.cif'\n",
      " '4v5j+02.cif' '4v5k+01.cif' '4v5k+02.cif' '4v5l+00.cif' '4v5m+00.cif'\n",
      " '4v5n+00.cif' '4v5p+01.cif' '4v5p+02.cif' '4v5q+01.cif' '4v5q+02.cif'\n",
      " '4v5r+01.cif' '4v5r+02.cif' '4v5s+01.cif' '4v5s+02.cif' '4v63+01.cif'\n",
      " '4v63+02.cif' '4v67+01.cif' '4v67+02.cif' '4v68+00.cif' '4v6a+01.cif'\n",
      " '4v6a+02.cif' '4v6f+01.cif' '4v6f+02.cif' '4v6g+01.cif' '4v6g+02.cif'\n",
      " '4v7j+01.cif' '4v7j+02.cif' '4v7k+01.cif' '4v7k+02.cif' '4v7l+01.cif'\n",
      " '4v7l+02.cif' '4v7m+01.cif' '4v7m+02.cif' '4v7p+01.cif' '4v7p+02.cif'\n",
      " '4v7w+01.cif' '4v7w+02.cif' '4v7x+01.cif' '4v7x+02.cif' '4v7y+01.cif'\n",
      " '4v7y+02.cif' '4v7z+01.cif' '4v7z+02.cif' '4v83+01.cif' '4v83+02.cif'\n",
      " '4v84+01.cif' '4v84+02.cif' '4v87+01.cif' '4v87+02.cif' '4v8a+01.cif'\n",
      " '4v8a+02.cif' '4v8b+01.cif' '4v8b+02.cif' '4v8c+01.cif' '4v8c+02.cif'\n",
      " '4v8d+01.cif' '4v8d+02.cif' '4v8e+01.cif' '4v8e+02.cif' '4v8f+01.cif'\n",
      " '4v8f+02.cif' '4v8g+01.cif' '4v8g+02.cif' '4v8h+01.cif' '4v8h+02.cif'\n",
      " '4v8i+01.cif' '4v8i+02.cif' '4v8j+01.cif' '4v8j+02.cif' '4v8n+01.cif'\n",
      " '4v8n+02.cif' '4v8o+00.cif' '4v8q+00.cif' '4v8u+01.cif' '4v8u+02.cif'\n",
      " '4v8x+01.cif' '4v8x+02.cif' '4v90+00.cif' '4v95+01.cif' '4v95+02.cif'\n",
      " '4v97+01.cif' '4v97+02.cif' '4v9a+01.cif' '4v9a+02.cif' '4v9b+01.cif'\n",
      " '4v9b+02.cif' '4v9h+00.cif' '4v9i+01.cif' '4v9i+02.cif' '4v9j+01.cif'\n",
      " '4v9j+02.cif' '4v9k+01.cif' '4v9k+02.cif' '4v9l+01.cif' '4v9l+02.cif'\n",
      " '4v9m+01.cif' '4v9m+02.cif' '4v9n+01.cif' '4v9n+02.cif' '4v9q+01.cif'\n",
      " '4v9q+02.cif' '4v9r+01.cif' '4v9r+02.cif' '4v9s+01.cif' '4v9s+02.cif'\n",
      " '4w29+01.cif' '4w29+02.cif' '4w2e+00.cif' '4w2f+01.cif' '4w2f+02.cif'\n",
      " '4w2g+01.cif' '4w2g+02.cif' '4w2h+01.cif' '4w2h+02.cif' '4w2i+01.cif'\n",
      " '4w2i+02.cif' '4w4g+01.cif' '4w4g+02.cif' '4wpo+01.cif' '4wpo+02.cif'\n",
      " '4wq1+01.cif' '4wq1+02.cif' '4wqf+01.cif' '4wqf+02.cif' '4wqr+01.cif'\n",
      " '4wqr+02.cif' '4wqu+01.cif' '4wqu+02.cif' '4wqy+01.cif' '4wqy+02.cif'\n",
      " '4wr6+01.cif' '4wr6+02.cif' '4wra+01.cif' '4wra+02.cif' '4wro+01.cif'\n",
      " '4wsd+01.cif' '4wsd+02.cif' '4wsm+01.cif' '4wsm+02.cif' '4wt1+01.cif'\n",
      " '4wt1+02.cif' '4wt8+01.cif' '4wt8+02.cif' '4wu1+01.cif' '4wu1+02.cif'\n",
      " '4wzd+01.cif' '4wzd+02.cif' '4wzo+01.cif' '4wzo+02.cif' '4x62+00.cif'\n",
      " '4x64+00.cif' '4x65+00.cif' '4x66+00.cif' '4xej+01.cif' '4xej+02.cif'\n",
      " '4y4o+01.cif' '4y4o+02.cif' '4y4p+01.cif' '4y4p+02.cif' '4yhh+00.cif'\n",
      " '4ypb+01.cif' '4ypb+02.cif' '4yy3+00.cif' '4yzv+01.cif' '4yzv+02.cif'\n",
      " '4z3s+01.cif' '4z3s+02.cif' '4z8c+01.cif' '4z8c+02.cif' '4zer+01.cif'\n",
      " '4zer+02.cif' '4zsn+01.cif' '4zsn+02.cif' '5a9z+00.cif' '5aa0+00.cif'\n",
      " '5br8+00.cif' '5czp+01.cif' '5czp+02.cif' '5d8b+01.cif' '5d8b+02.cif'\n",
      " '5dfe+01.cif' '5dfe+02.cif' '5dox+01.cif' '5dox+02.cif' '5doy+01.cif'\n",
      " '5doy+02.cif' '5e7k+01.cif' '5e7k+02.cif' '5e81+01.cif' '5e81+02.cif'\n",
      " '5el4+01.cif' '5el4+02.cif' '5el5+01.cif' '5el5+02.cif' '5el6+01.cif'\n",
      " '5el6+02.cif' '5el7+01.cif' '5el7+02.cif' '5f8k+01.cif' '5f8k+02.cif'\n",
      " '5fdu+01.cif' '5fdu+02.cif' '5fdv+01.cif' '5fdv+02.cif' '5hau+01.cif'\n",
      " '5hau+02.cif' '5hcp+01.cif' '5hcp+02.cif' '5hcq+01.cif' '5hcq+02.cif'\n",
      " '5hcr+01.cif' '5hcr+02.cif' '5hd1+01.cif' '5hd1+02.cif' '5ib7+01.cif'\n",
      " '5ib7+02.cif' '5ib8+01.cif' '5ib8+02.cif' '5ibb+01.cif' '5ibb+02.cif'\n",
      " '5imq+00.cif' '5imr+00.cif' '5iwa+00.cif' '5j30+01.cif' '5j30+02.cif'\n",
      " '5j3c+01.cif' '5j3c+02.cif' '5j4b+01.cif' '5j4b+02.cif' '5j4c+01.cif'\n",
      " '5j4c+02.cif' '5j4d+01.cif' '5j4d+02.cif' '5j8b+00.cif' '5lmn+00.cif'\n",
      " '5lmo+00.cif' '5lmp+00.cif' '5lmq+00.cif' '5lmr+00.cif' '5lms+00.cif'\n",
      " '5lmt+00.cif' '5lmu+00.cif' '5lmv+00.cif' '5ndj+01.cif' '5ndj+02.cif'\n",
      " '5ndk+01.cif' '5ndk+02.cif' '5ot7+00.cif' '5uq7+00.cif' '5uq8+00.cif'\n",
      " '5v8i+01.cif' '5v8i+02.cif' '5vp2+01.cif' '5vp2+02.cif' '5w4k+01.cif'\n",
      " '5w4k+02.cif' '5wis+01.cif' '5wis+02.cif' '5wit+01.cif' '5wit+02.cif'\n",
      " '5wnp+00.cif' '5wnq+00.cif' '5wnr+00.cif' '5wns+00.cif' '5wnt+00.cif'\n",
      " '5wnu+00.cif' '5wnv+00.cif' '5zlu+00.cif' '6b4v+01.cif' '6b4v+02.cif'\n",
      " '6boh+01.cif' '6boh+02.cif' '6bok+01.cif' '6bok+02.cif' '6c5l+01.cif'\n",
      " '6c5l+02.cif' '6cae+01.cif' '6cae+02.cif' '6cao+00.cif' '6cap+00.cif'\n",
      " '6caq+00.cif' '6car+00.cif' '6cas+00.cif' '6cfj+01.cif' '6cfj+02.cif'\n",
      " '6cfk+01.cif' '6cfk+02.cif' '6cfl+01.cif' '6cfl+02.cif' '6fkr+01.cif'\n",
      " '6fkr+02.cif' '6gsj+01.cif' '6gsj+02.cif' '6gsk+01.cif' '6gsk+02.cif'\n",
      " '6gsl+01.cif' '6gsl+02.cif']\n",
      "From now on, we work with:  data/ribosome_thermo_ssu_rna_clean.pdb\n"
     ]
    }
   ],
   "source": [
    "pdb_clean=True\n",
    "keyword  = 'data/'+project_name\n",
    "if(pdb_clean):\n",
    "    pdb_name = keyword+'_clean.pdb'\n",
    "    if(os.path.isfile(pdb_name)):\n",
    "        print(\"already did clean \",pdb_name)\n",
    "    else:\n",
    "        traj, ids = io.load_dataset(keyword+'.pdb',ids_filename='',superpose=True,pdb_clean=True)\n",
    "        cmpnt.save_traj(traj,ids,keyword=keyword+'_clean',verbose='full')\n",
    "else:\n",
    "    pdb_name = keyword+'.pdb'\n",
    "print(\"From now on, we work with: \",pdb_name)"
   ]
  },
  {
   "cell_type": "markdown",
   "metadata": {},
   "source": [
    "### Remove frames from given clusters\n",
    "We remove ids from pdb_name defined above"
   ]
  },
  {
   "cell_type": "code",
   "execution_count": 4,
   "metadata": {},
   "outputs": [],
   "source": [
    "keydir_in   = 'iter0_pca' #'iter0_ica_clean'\n",
    "keyword_in  = 'iter0_pca' #'iter0_ica'\n",
    "keyword_out = 'iter1_pca' #'iter1_ica_clean'\n",
    "ids_filelist = ('_cluster_2_','_cluster_3_') "
   ]
  },
  {
   "cell_type": "code",
   "execution_count": 5,
   "metadata": {},
   "outputs": [
    {
     "name": "stdout",
     "output_type": "stream",
     "text": [
      "rnapol2_scerevisae/iter0_pca/iter0_pca_cluster_2_mean.pdb\n",
      "wrote  rnapol2_scerevisae/iter1_pca.pdb  :  ['1i3q+00.cif' '1i50+00.cif' '1i6h+00.cif' '1k83+00.cif' '1nik+00.cif'\n",
      " '1r5u+00.cif' '1r9s+00.cif' '1r9t+00.cif' '1sfo+00.cif' '1twa+00.cif'\n",
      " '1twc+00.cif' '1twf+02.cif' '1twg+00.cif' '1twh+00.cif' '1wcm+00.cif'\n",
      " '1y1v+00.cif' '1y1w+00.cif' '1y77+00.cif' '2b63+00.cif' '2b8k+00.cif'\n",
      " '2e2h+00.cif' '2e2i+00.cif' '2e2j+00.cif' '2ja5+00.cif' '2ja6+00.cif'\n",
      " '2ja7+01.cif' '2ja7+02.cif' '2ja8+00.cif' '2nvq+00.cif' '2nvt+00.cif'\n",
      " '2nvx+00.cif' '2nvy+00.cif' '2nvz+00.cif' '2r7z+00.cif' '2r92+00.cif'\n",
      " '2r93+00.cif' '2vum+00.cif' '2yu9+00.cif' '3cqz+00.cif' '3fki+00.cif'\n",
      " '3gtg+00.cif' '3gtj+00.cif' '3gtk+00.cif' '3gtl+00.cif' '3gtm+00.cif'\n",
      " '3gto+00.cif' '3gtp+00.cif' '3gtq+00.cif' '3h3v+00.cif' '3hou+01.cif'\n",
      " '3hov+00.cif' '3how+00.cif' '3hox+00.cif' '3hoy+00.cif' '3hoz+00.cif'\n",
      " '3i4m+00.cif' '3i4n+00.cif' '3j0k+00.cif' '3k1f+00.cif' '3k7a+00.cif'\n",
      " '3m3y+00.cif' '3m4o+00.cif' '3po2+00.cif' '3po3+00.cif' '3qt1+00.cif'\n",
      " '3rzd+00.cif' '3rzo+00.cif' '3s14+00.cif' '3s15+00.cif' '3s16+00.cif'\n",
      " '3s17+00.cif' '3s1m+00.cif' '3s1n+00.cif' '3s1q+00.cif' '3s1r+00.cif'\n",
      " '3s2d+00.cif' '3s2h+00.cif' '4a3b+00.cif' '4a3c+00.cif' '4a3d+00.cif'\n",
      " '4a3e+00.cif' '4a3f+00.cif' '4a3g+00.cif' '4a3i+00.cif' '4a3j+00.cif'\n",
      " '4a3k+00.cif' '4a3l+00.cif' '4a3m+00.cif' '4a93+00.cif' '4bbr+00.cif'\n",
      " '4bbs+00.cif' '4bxx+00.cif' '4bxz+00.cif' '4by1+00.cif' '4by7+00.cif'\n",
      " '4v1m+00.cif' '4v1n+00.cif' '4v1o+00.cif' '4x67+00.cif' '4x6a+00.cif'\n",
      " '4y52+00.cif' '4y7n+00.cif' '5c3e+00.cif' '5c44+00.cif' '5c4a+00.cif'\n",
      " '5c4j+00.cif' '5c4x+00.cif' '5fmf+00.cif' '5fyw+00.cif' '5fz5+00.cif'\n",
      " '5ip7+00.cif' '5ip9+00.cif' '5oqj+00.cif' '5oqm+00.cif' '5ot2+00.cif'\n",
      " '5sva+00.cif' '5u5q+00.cif' '5vvr+00.cif' '5vvs+00.cif' '5w4u+00.cif'\n",
      " '5w51+00.cif' '6blo+00.cif' '6blp+00.cif' '6bm2+00.cif' '6bm4+00.cif'\n",
      " '6bqf+00.cif']\n",
      "rnapol2_scerevisae/iter0_pca/iter0_pca_cluster_3_mean.pdb\n",
      "wrote  rnapol2_scerevisae/iter1_pca.pdb  :  ['1i3q+00.cif' '1i50+00.cif' '1i6h+00.cif' '1k83+00.cif' '1nik+00.cif'\n",
      " '1r5u+00.cif' '1r9s+00.cif' '1r9t+00.cif' '1sfo+00.cif' '1twa+00.cif'\n",
      " '1twc+00.cif' '1twf+02.cif' '1twg+00.cif' '1twh+00.cif' '1wcm+00.cif'\n",
      " '1y1v+00.cif' '1y1w+00.cif' '1y77+00.cif' '2b63+00.cif' '2b8k+00.cif'\n",
      " '2e2h+00.cif' '2e2i+00.cif' '2e2j+00.cif' '2ja5+00.cif' '2ja6+00.cif'\n",
      " '2ja7+01.cif' '2ja8+00.cif' '2nvq+00.cif' '2nvt+00.cif' '2nvx+00.cif'\n",
      " '2nvy+00.cif' '2nvz+00.cif' '2r7z+00.cif' '2r92+00.cif' '2r93+00.cif'\n",
      " '2vum+00.cif' '2yu9+00.cif' '3cqz+00.cif' '3fki+00.cif' '3gtg+00.cif'\n",
      " '3gtj+00.cif' '3gtk+00.cif' '3gtl+00.cif' '3gtm+00.cif' '3gto+00.cif'\n",
      " '3gtp+00.cif' '3gtq+00.cif' '3h3v+00.cif' '3hou+01.cif' '3hov+00.cif'\n",
      " '3how+00.cif' '3hox+00.cif' '3hoy+00.cif' '3hoz+00.cif' '3i4m+00.cif'\n",
      " '3i4n+00.cif' '3j0k+00.cif' '3k1f+00.cif' '3k7a+00.cif' '3m3y+00.cif'\n",
      " '3m4o+00.cif' '3po2+00.cif' '3po3+00.cif' '3qt1+00.cif' '3rzd+00.cif'\n",
      " '3rzo+00.cif' '3s14+00.cif' '3s15+00.cif' '3s16+00.cif' '3s17+00.cif'\n",
      " '3s1m+00.cif' '3s1n+00.cif' '3s1q+00.cif' '3s1r+00.cif' '3s2d+00.cif'\n",
      " '3s2h+00.cif' '4a3b+00.cif' '4a3c+00.cif' '4a3d+00.cif' '4a3e+00.cif'\n",
      " '4a3f+00.cif' '4a3g+00.cif' '4a3i+00.cif' '4a3j+00.cif' '4a3k+00.cif'\n",
      " '4a3l+00.cif' '4a3m+00.cif' '4a93+00.cif' '4bbr+00.cif' '4bbs+00.cif'\n",
      " '4bxx+00.cif' '4bxz+00.cif' '4by1+00.cif' '4by7+00.cif' '4v1m+00.cif'\n",
      " '4v1n+00.cif' '4v1o+00.cif' '4x67+00.cif' '4x6a+00.cif' '4y52+00.cif'\n",
      " '4y7n+00.cif' '5c3e+00.cif' '5c44+00.cif' '5c4a+00.cif' '5c4j+00.cif'\n",
      " '5c4x+00.cif' '5fmf+00.cif' '5fyw+00.cif' '5fz5+00.cif' '5ip7+00.cif'\n",
      " '5ip9+00.cif' '5oqj+00.cif' '5oqm+00.cif' '5ot2+00.cif' '5sva+00.cif'\n",
      " '5u5q+00.cif' '5vvr+00.cif' '5vvs+00.cif' '5w4u+00.cif' '5w51+00.cif'\n",
      " '6blo+00.cif' '6blp+00.cif' '6bm2+00.cif' '6bm4+00.cif' '6bqf+00.cif']\n"
     ]
    }
   ],
   "source": [
    "pdb=pdb_name\n",
    "for ids in ids_filelist:\n",
    "    if(ids != ''):\n",
    "        ids_filename=project_name+'/'+keydir_in+'/'+keyword_in+ids+'mean.pdb'\n",
    "        print(ids_filename)\n",
    "        traj, ids = io.load_dataset(pdb,ids_filename=ids_filename,keep_mode='ignore')\n",
    "        cmpnt.save_traj(traj,ids,keyword=project_name+'/'+keyword_out,verbose='full')\n",
    "        pdb=project_name+'/'+keyword_out+'.pdb'"
   ]
  },
  {
   "cell_type": "code",
   "execution_count": null,
   "metadata": {},
   "outputs": [],
   "source": []
  },
  {
   "cell_type": "code",
   "execution_count": null,
   "metadata": {},
   "outputs": [],
   "source": []
  },
  {
   "cell_type": "code",
   "execution_count": null,
   "metadata": {},
   "outputs": [],
   "source": []
  }
 ],
 "metadata": {
  "kernelspec": {
   "display_name": "Python 3",
   "language": "python",
   "name": "python3"
  },
  "language_info": {
   "codemirror_mode": {
    "name": "ipython",
    "version": 3
   },
   "file_extension": ".py",
   "mimetype": "text/x-python",
   "name": "python",
   "nbconvert_exporter": "python",
   "pygments_lexer": "ipython3",
   "version": "3.6.3"
  }
 },
 "nbformat": 4,
 "nbformat_minor": 2
}
