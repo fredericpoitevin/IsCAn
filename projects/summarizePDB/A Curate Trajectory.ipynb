{
 "cells": [
  {
   "cell_type": "code",
   "execution_count": 1,
   "metadata": {},
   "outputs": [
    {
     "name": "stderr",
     "output_type": "stream",
     "text": [
      "/Users/fpoitevi/anaconda3/lib/python3.6/site-packages/sklearn/cross_validation.py:41: DeprecationWarning: This module was deprecated in version 0.18 in favor of the model_selection module into which all the refactored classes and functions are moved. Also note that the interface of the new CV iterators are different from that of this module. This module will be removed in 0.20.\n",
      "  \"This module will be removed in 0.20.\", DeprecationWarning)\n",
      "/Users/fpoitevi/anaconda3/lib/python3.6/site-packages/sklearn/grid_search.py:42: DeprecationWarning: This module was deprecated in version 0.18 in favor of the model_selection module into which all the refactored classes and functions are moved. This module will be removed in 0.20.\n",
      "  DeprecationWarning)\n"
     ]
    }
   ],
   "source": [
    "%matplotlib inline\n",
    "import os.path\n",
    "import numpy as np\n",
    "import src.io as io\n",
    "import src.components as cmpnt"
   ]
  },
  {
   "cell_type": "code",
   "execution_count": 2,
   "metadata": {},
   "outputs": [],
   "source": [
    "project_name = 'rnapol2_scerevisae' #'ribosome_thermo_ssu_rna' #'rnapol2_scerevisae' #'ribosome_thermo_rna'"
   ]
  },
  {
   "cell_type": "markdown",
   "metadata": {},
   "source": [
    "### Remove atoms that behave funny\n",
    "We remove atom outliers: if pdb_clean is **True**"
   ]
  },
  {
   "cell_type": "code",
   "execution_count": null,
   "metadata": {},
   "outputs": [],
   "source": [
    "#keyword  = 'data/'+project_name\n",
    "#pdb_clean=True\n",
    "#traj, ids = io.load_dataset(keyword+'.pdb',ids_filename='',superpose=True,pdb_clean=True,Nsigma=0)\n",
    "#cmpnt.save_traj(traj,ids,keyword=keyword+'_clean2',verbose='full')"
   ]
  },
  {
   "cell_type": "code",
   "execution_count": 3,
   "metadata": {},
   "outputs": [
    {
     "name": "stdout",
     "output_type": "stream",
     "text": [
      "Initial number of atoms  3189\n",
      "Check out scores in see_atom_elastic_score.pdb\n",
      "... after cleaning:  3140\n",
      "wrote  data/rnapol2_scerevisae_clean.pdb  :  ['1i3q+00.cif' '1i50+00.cif' '1i6h+00.cif' '1k83+00.cif' '1nik+00.cif'\n",
      " '1r5u+00.cif' '1r9s+00.cif' '1r9t+00.cif' '1sfo+00.cif' '1twa+00.cif'\n",
      " '1twc+00.cif' '1twf+02.cif' '1twg+00.cif' '1twh+00.cif' '1wcm+00.cif'\n",
      " '1y1v+00.cif' '1y1w+00.cif' '1y77+00.cif' '2b63+00.cif' '2b8k+00.cif'\n",
      " '2e2h+00.cif' '2e2i+00.cif' '2e2j+00.cif' '2ja5+00.cif' '2ja6+00.cif'\n",
      " '2ja7+01.cif' '2ja7+02.cif' '2ja8+00.cif' '2nvq+00.cif' '2nvt+00.cif'\n",
      " '2nvx+00.cif' '2nvy+00.cif' '2nvz+00.cif' '2r7z+00.cif' '2r92+00.cif'\n",
      " '2r93+00.cif' '2vum+00.cif' '2yu9+00.cif' '3cqz+00.cif' '3fki+00.cif'\n",
      " '3gtg+00.cif' '3gtj+00.cif' '3gtk+00.cif' '3gtl+00.cif' '3gtm+00.cif'\n",
      " '3gto+00.cif' '3gtp+00.cif' '3gtq+00.cif' '3h3v+00.cif' '3hou+01.cif'\n",
      " '3hou+02.cif' '3hov+00.cif' '3how+00.cif' '3hox+00.cif' '3hoy+00.cif'\n",
      " '3hoz+00.cif' '3i4m+00.cif' '3i4n+00.cif' '3j0k+00.cif' '3k1f+00.cif'\n",
      " '3k7a+00.cif' '3m3y+00.cif' '3m4o+00.cif' '3po2+00.cif' '3po3+00.cif'\n",
      " '3qt1+00.cif' '3rzd+00.cif' '3rzo+00.cif' '3s14+00.cif' '3s15+00.cif'\n",
      " '3s16+00.cif' '3s17+00.cif' '3s1m+00.cif' '3s1n+00.cif' '3s1q+00.cif'\n",
      " '3s1r+00.cif' '3s2d+00.cif' '3s2h+00.cif' '4a3b+00.cif' '4a3c+00.cif'\n",
      " '4a3d+00.cif' '4a3e+00.cif' '4a3f+00.cif' '4a3g+00.cif' '4a3i+00.cif'\n",
      " '4a3j+00.cif' '4a3k+00.cif' '4a3l+00.cif' '4a3m+00.cif' '4a93+00.cif'\n",
      " '4bbr+00.cif' '4bbs+00.cif' '4bxx+00.cif' '4bxz+00.cif' '4by1+00.cif'\n",
      " '4by7+00.cif' '4v1m+00.cif' '4v1n+00.cif' '4v1o+00.cif' '4x67+00.cif'\n",
      " '4x6a+00.cif' '4y52+00.cif' '4y7n+00.cif' '5c3e+00.cif' '5c44+00.cif'\n",
      " '5c4a+00.cif' '5c4j+00.cif' '5c4x+00.cif' '5fmf+00.cif' '5fyw+00.cif'\n",
      " '5fz5+00.cif' '5ip7+00.cif' '5ip9+00.cif' '5oqj+00.cif' '5oqm+00.cif'\n",
      " '5ot2+00.cif' '5sva+00.cif' '5u5q+00.cif' '5vvr+00.cif' '5vvs+00.cif'\n",
      " '5w4u+00.cif' '5w51+00.cif' '6blo+00.cif' '6blp+00.cif' '6bm2+00.cif'\n",
      " '6bm4+00.cif' '6bqf+00.cif']\n",
      "From now on, we work with:  data/rnapol2_scerevisae_clean.pdb\n"
     ]
    }
   ],
   "source": [
    "pdb_clean=True\n",
    "keyword  = 'data/'+project_name\n",
    "if(pdb_clean):\n",
    "    pdb_name = keyword+'_clean.pdb'\n",
    "    if(os.path.isfile(pdb_name)):\n",
    "        print(\"already did clean \",pdb_name)\n",
    "    else:\n",
    "        traj, ids = io.load_dataset(keyword+'.pdb',ids_filename='',superpose=True,pdb_clean=True)\n",
    "        cmpnt.save_traj(traj,ids,keyword=keyword+'_clean',verbose='full')\n",
    "else:\n",
    "    pdb_name = keyword+'.pdb'\n",
    "print(\"From now on, we work with: \",pdb_name)"
   ]
  },
  {
   "cell_type": "markdown",
   "metadata": {},
   "source": [
    "### Remove frames from given clusters\n",
    "We remove ids from pdb_name defined above"
   ]
  },
  {
   "cell_type": "code",
   "execution_count": 16,
   "metadata": {},
   "outputs": [],
   "source": [
    "pdb_name    = project_name+'/iter1_ica.pdb'\n",
    "keydir_in   = 'iter1_ica' #'iter0_ica_clean'\n",
    "keyword_in  = 'iter1_ica' #'iter0_ica'\n",
    "keyword_out = 'iter2_ica' #'iter1_pca'\n",
    "ids_filelist = ('_cluster_1_','') "
   ]
  },
  {
   "cell_type": "code",
   "execution_count": 17,
   "metadata": {},
   "outputs": [
    {
     "name": "stdout",
     "output_type": "stream",
     "text": [
      "rnapol2_scerevisae/iter1_ica/iter1_ica_cluster_1_mean.pdb\n",
      "wrote  rnapol2_scerevisae/iter2_ica.pdb  :  ['1i3q+00.cif' '1i50+00.cif' '1k83+00.cif' '1r5u+00.cif' '1r9t+00.cif'\n",
      " '1sfo+00.cif' '1twa+00.cif' '1twc+00.cif' '1twf+02.cif' '1twg+00.cif'\n",
      " '1twh+00.cif' '1wcm+00.cif' '1y1v+00.cif' '1y1w+00.cif' '1y77+00.cif'\n",
      " '2b8k+00.cif' '2e2i+00.cif' '2e2j+00.cif' '2ja5+00.cif' '2ja6+00.cif'\n",
      " '2ja7+01.cif' '2ja8+00.cif' '2nvq+00.cif' '2nvt+00.cif' '2nvx+00.cif'\n",
      " '2nvy+00.cif' '2r7z+00.cif' '2r92+00.cif' '2r93+00.cif' '2vum+00.cif'\n",
      " '3cqz+00.cif' '3fki+00.cif' '3gtl+00.cif' '3gtm+00.cif' '3gto+00.cif'\n",
      " '3gtp+00.cif' '3gtq+00.cif' '3h3v+00.cif' '3hou+01.cif' '3hov+00.cif'\n",
      " '3how+00.cif' '3hox+00.cif' '3hoy+00.cif' '3hoz+00.cif' '3i4m+00.cif'\n",
      " '3i4n+00.cif' '3j0k+00.cif' '3k7a+00.cif' '3m3y+00.cif' '3m4o+00.cif'\n",
      " '3po2+00.cif' '3po3+00.cif' '3rzd+00.cif' '3rzo+00.cif' '3s14+00.cif'\n",
      " '3s15+00.cif' '3s16+00.cif' '3s17+00.cif' '3s1m+00.cif' '3s1n+00.cif'\n",
      " '3s1q+00.cif' '3s1r+00.cif' '3s2d+00.cif' '3s2h+00.cif' '4a3b+00.cif'\n",
      " '4a3c+00.cif' '4a3d+00.cif' '4a3e+00.cif' '4a3f+00.cif' '4a3g+00.cif'\n",
      " '4a3i+00.cif' '4a3j+00.cif' '4a3k+00.cif' '4a3l+00.cif' '4a3m+00.cif'\n",
      " '4a93+00.cif' '4bbr+00.cif' '4bbs+00.cif' '4bxz+00.cif' '4v1m+00.cif'\n",
      " '4v1n+00.cif' '4v1o+00.cif' '4x67+00.cif' '4x6a+00.cif' '4y52+00.cif'\n",
      " '4y7n+00.cif' '5fmf+00.cif' '5fyw+00.cif' '5fz5+00.cif' '5ip7+00.cif'\n",
      " '5ip9+00.cif' '5ot2+00.cif' '5sva+00.cif' '5w4u+00.cif' '5w51+00.cif'\n",
      " '6blo+00.cif' '6blp+00.cif' '6bm2+00.cif' '6bm4+00.cif' '6bqf+00.cif']\n"
     ]
    }
   ],
   "source": [
    "pdb=pdb_name\n",
    "for ids in ids_filelist:\n",
    "    if(ids != ''):\n",
    "        ids_filename=project_name+'/'+keydir_in+'/'+keyword_in+ids+'mean.pdb'\n",
    "        print(ids_filename)\n",
    "        traj, ids = io.load_dataset(pdb,ids_filename=ids_filename,keep_mode='ignore')\n",
    "        cmpnt.save_traj(traj,ids,keyword=project_name+'/'+keyword_out,verbose='full')\n",
    "        pdb=project_name+'/'+keyword_out+'.pdb'"
   ]
  },
  {
   "cell_type": "code",
   "execution_count": null,
   "metadata": {},
   "outputs": [],
   "source": []
  },
  {
   "cell_type": "code",
   "execution_count": null,
   "metadata": {},
   "outputs": [],
   "source": []
  },
  {
   "cell_type": "code",
   "execution_count": null,
   "metadata": {},
   "outputs": [],
   "source": []
  }
 ],
 "metadata": {
  "kernelspec": {
   "display_name": "Python 3",
   "language": "python",
   "name": "python3"
  },
  "language_info": {
   "codemirror_mode": {
    "name": "ipython",
    "version": 3
   },
   "file_extension": ".py",
   "mimetype": "text/x-python",
   "name": "python",
   "nbconvert_exporter": "python",
   "pygments_lexer": "ipython3",
   "version": "3.6.3"
  }
 },
 "nbformat": 4,
 "nbformat_minor": 2
}
